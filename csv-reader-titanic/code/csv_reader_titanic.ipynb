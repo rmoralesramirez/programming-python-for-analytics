{
 "cells": [
  {
   "cell_type": "markdown",
   "metadata": {},
   "source": [
    "## CSV reader for Titanic data"
   ]
  },
  {
   "cell_type": "markdown",
   "metadata": {},
   "source": [
    "---"
   ]
  },
  {
   "cell_type": "markdown",
   "metadata": {},
   "source": [
    "### Step 1\n",
    ">Function `fill_age` receives a parameter `value` of type `str`, and returns a `float` if the parameter is not empty, otherwise returns `-1`. I am assuming `age` to be `-1` unless there is a value for it, and if there is, this value is assigned."
   ]
  },
  {
   "cell_type": "code",
   "execution_count": 1,
   "metadata": {},
   "outputs": [],
   "source": [
    "def fill_age(value):\n",
    "    age = -1\n",
    "    if value:\n",
    "        age = float(value)\n",
    "    return age"
   ]
  },
  {
   "cell_type": "markdown",
   "metadata": {},
   "source": [
    "---"
   ]
  },
  {
   "cell_type": "markdown",
   "metadata": {},
   "source": [
    "### Step 2\n",
    ">Function `split_raw_fields` receives a parameter `line` of type `str`, containing several words separated by commas, and returns a `list` of `str`, where each element corresponds to each of the words of the original string, without any whitespace at the beginning or at the end of the word.\n",
    ">\n",
    ">In order to remove only the whitespaces from the beginning and ending (if I just remove all spaces, names would be wrong for example), first I need to `split` the string and then apply `strip` method appending all values to the returned `list`."
   ]
  },
  {
   "cell_type": "code",
   "execution_count": 2,
   "metadata": {},
   "outputs": [],
   "source": [
    "def split_raw_fields(line):\n",
    "    line_splitted = line.split(\",\")\n",
    "    list = []\n",
    "    for i in line_splitted:\n",
    "        list.append(i.strip())\n",
    "    return list"
   ]
  },
  {
   "cell_type": "markdown",
   "metadata": {},
   "source": [
    "---"
   ]
  },
  {
   "cell_type": "markdown",
   "metadata": {},
   "source": [
    "### Step 3\n",
    ">Function `build_record` that receives two parameters: `fields` (a `tuple` of heterogeneous elements) and `header` (a `list` of `str`) and returns a `dict`, where each key is an element of `header` and each value is an element of `fields`. "
   ]
  },
  {
   "cell_type": "code",
   "execution_count": 3,
   "metadata": {},
   "outputs": [],
   "source": [
    "def build_record(fields, header):\n",
    "    dict = {}\n",
    "    for i in range(len(fields)):\n",
    "        dict[header[i]] = fields[i]\n",
    "    return dict"
   ]
  },
  {
   "cell_type": "markdown",
   "metadata": {},
   "source": [
    "---"
   ]
  },
  {
   "cell_type": "markdown",
   "metadata": {},
   "source": [
    "### Step 4\n",
    ">Function `extract_fields` receives a parameter `line` of type `str` with a specific structure (see example below), uses `fill_age` and `split_raw_fields`, and returns a `tuple` of elements, with the types (int, bool, int, str, str, float, int, int, str, float, str, str).\n",
    ">\n",
    ">In first place, I need to split the line using the `split_raw_fields` function so I can access each element. Then, it is not possible to iterate through the `line_splitted` because I am not converting all the elements to the same data type. In the case of the `bool` I need to convert the element to `int` first because if not it is checking a string and it is `True` either it is `'0'` or `'1'`. In the age element I am using the `fill_age` function to convert it to float."
   ]
  },
  {
   "cell_type": "code",
   "execution_count": 4,
   "metadata": {},
   "outputs": [],
   "source": [
    "def extract_fields(line):\n",
    "    line_splitted = split_raw_fields(line)\n",
    "    return (\n",
    "        int(line_splitted[0]),\n",
    "        bool(int(line_splitted[1])),\n",
    "        int(line_splitted[2]),\n",
    "        str(line_splitted[3]),\n",
    "        str(line_splitted[4]),\n",
    "        fill_age(line_splitted[5]),\n",
    "        int(line_splitted[6]),\n",
    "        int(line_splitted[7]),\n",
    "        str(line_splitted[8]),\n",
    "        float(line_splitted[9]),\n",
    "        str(line_splitted[10]),\n",
    "        str(line_splitted[11]),\n",
    "    )\n"
   ]
  },
  {
   "cell_type": "markdown",
   "metadata": {},
   "source": [
    "---"
   ]
  },
  {
   "cell_type": "markdown",
   "metadata": {},
   "source": [
    "### Step 5\n",
    ">Function `read_data` receives a file handle (as returned by `open`) and returns a `list` of records, each record corresponding to each line of `titanic.csv` (except for the first one).\n",
    ">\n",
    ">I am firstly iterating through the file holder `fh` to obtain an intermediate `list` with all the read rows from the csv. The first row in this one is going to be the `header` where I am applying `split_raw_fields` and for the rest I am calling `build_record` to create the list of `records` I am returning. But prior to using `build_record`, I need to apply `extract_fields` so that I transform all the fields to its corresponding data type."
   ]
  },
  {
   "cell_type": "code",
   "execution_count": 5,
   "metadata": {},
   "outputs": [],
   "source": [
    "def read_data(fh):\n",
    "    list = []\n",
    "    for row in fh:\n",
    "        list.append(row)\n",
    "    header = split_raw_fields(list[0])\n",
    "    records = []\n",
    "    for i in range(1, len(list)):\n",
    "        records.append(build_record(extract_fields(list[i]), header))\n",
    "    return records"
   ]
  },
  {
   "cell_type": "markdown",
   "metadata": {},
   "source": [
    "---"
   ]
  },
  {
   "cell_type": "markdown",
   "metadata": {},
   "source": [
    "### Testing"
   ]
  },
  {
   "cell_type": "code",
   "execution_count": 6,
   "metadata": {},
   "outputs": [],
   "source": [
    "path = 'titanic.csv'"
   ]
  },
  {
   "cell_type": "code",
   "execution_count": 7,
   "metadata": {},
   "outputs": [],
   "source": [
    "with open(path) as fh:\n",
    "    records = read_data(fh)"
   ]
  },
  {
   "cell_type": "code",
   "execution_count": 8,
   "metadata": {
    "scrolled": true
   },
   "outputs": [
    {
     "data": {
      "text/plain": [
       "{'PassengerId': 1,\n",
       " 'Survived': False,\n",
       " 'Pclass': 3,\n",
       " 'Name': 'Mr. Owen Harris',\n",
       " 'Sex': 'male',\n",
       " 'Age': 22.0,\n",
       " 'SibSp': 1,\n",
       " 'Parch': 0,\n",
       " 'Ticket': 'A/5 21171',\n",
       " 'Fare': 7.25,\n",
       " 'Cabin': '',\n",
       " 'Embarked': 'S'}"
      ]
     },
     "execution_count": 8,
     "metadata": {},
     "output_type": "execute_result"
    }
   ],
   "source": [
    "records[0]"
   ]
  },
  {
   "cell_type": "code",
   "execution_count": 9,
   "metadata": {},
   "outputs": [
    {
     "data": {
      "text/plain": [
       "{'PassengerId': 891,\n",
       " 'Survived': False,\n",
       " 'Pclass': 3,\n",
       " 'Name': 'Mr. Patrick',\n",
       " 'Sex': 'male',\n",
       " 'Age': 32.0,\n",
       " 'SibSp': 0,\n",
       " 'Parch': 0,\n",
       " 'Ticket': '370376',\n",
       " 'Fare': 7.75,\n",
       " 'Cabin': '',\n",
       " 'Embarked': 'Q'}"
      ]
     },
     "execution_count": 9,
     "metadata": {},
     "output_type": "execute_result"
    }
   ],
   "source": [
    "records[-1]"
   ]
  },
  {
   "cell_type": "markdown",
   "metadata": {},
   "source": [
    "---"
   ]
  },
  {
   "cell_type": "markdown",
   "metadata": {},
   "source": [
    "### Extra\n",
    ">Compute the mean age of the first 10 records, excluding the ones where the age is unknown (where \"unknown\", given `fill_age` function, is `-1`).\n",
    ">\n",
    ">For this problem I needed to iterate through the wole length of `records` until I found `10` with known age. First I needed to check if the `age` was known with the `fill_age` and when I reach 10 records, stop. I created the function `mean_age_first_n_records` for that purpose receiving just one parameter `n` to determine the number of records"
   ]
  },
  {
   "cell_type": "code",
   "execution_count": 10,
   "metadata": {},
   "outputs": [],
   "source": [
    "def mean_age_first_n_records(n):\n",
    "    total = 0\n",
    "    n_local = 0\n",
    "    for i in range(len(records)):\n",
    "        if fill_age(records[i][\"Age\"]) != -1:\n",
    "            total += fill_age(records[i][\"Age\"])\n",
    "            n_local += 1\n",
    "            if n_local == n:\n",
    "                break\n",
    "    return total / n"
   ]
  },
  {
   "cell_type": "code",
   "execution_count": 11,
   "metadata": {},
   "outputs": [
    {
     "data": {
      "text/plain": [
       "25.7"
      ]
     },
     "execution_count": 11,
     "metadata": {},
     "output_type": "execute_result"
    }
   ],
   "source": [
    "mean_age_first_n_records(10)"
   ]
  }
 ],
 "metadata": {
  "kernelspec": {
   "display_name": "Python 3",
   "language": "python",
   "name": "python3"
  },
  "language_info": {
   "codemirror_mode": {
    "name": "ipython",
    "version": 3
   },
   "file_extension": ".py",
   "mimetype": "text/x-python",
   "name": "python",
   "nbconvert_exporter": "python",
   "pygments_lexer": "ipython3",
   "version": "3.8.5"
  }
 },
 "nbformat": 4,
 "nbformat_minor": 4
}
